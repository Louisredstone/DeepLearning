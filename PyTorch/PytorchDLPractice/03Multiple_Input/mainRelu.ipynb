{
 "cells": [
  {
   "cell_type": "code",
   "execution_count": 1,
   "metadata": {},
   "outputs": [],
   "source": [
    "################################\n",
    "#       prepare data\n",
    "################################\n",
    "\n",
    "import numpy as np\n",
    "import torch\n",
    "\n",
    "xy = np.loadtxt('diabetes.csv.gz',delimiter=',',dtype=np.float32)\n",
    "x_data = torch.from_numpy(xy[:,:-1])\n",
    "y_data = torch.from_numpy(xy[:,-1])\n",
    "\n",
    "################################\n",
    "#       define model\n",
    "################################\n",
    "import torch\n",
    "\n",
    "class Model(torch.nn.Module):\n",
    "    def __init__(self):\n",
    "        super(Model,self).__init__()\n",
    "        self.linear1 = torch.nn.Linear(8,6)\n",
    "        self.linear2 = torch.nn.Linear(6,4)\n",
    "        self.linear3 = torch.nn.Linear(4,1)\n",
    "        self.activate = torch.nn.ReLU()\n",
    "    def forward(self,x):\n",
    "        result=self.activate(\n",
    "            self.linear3(\n",
    "                self.activate(\n",
    "                    self.linear2(\n",
    "                        self.activate(\n",
    "                            self.linear1(\n",
    "                                x\n",
    "                            )\n",
    "                        )\n",
    "                    )\n",
    "                )\n",
    "            )\n",
    "        )\n",
    "        return result\n",
    "\n"
   ]
  },
  {
   "cell_type": "code",
   "execution_count": 2,
   "metadata": {},
   "outputs": [],
   "source": [
    "model = Model()\n",
    "\n",
    "\n",
    "\n",
    "criterion = torch.nn.BCELoss()\n",
    "\n",
    "optimizer = torch.optim.SGD(model.parameters(),lr=0.1)#这里可能有点问题，使用SGD或许与ReLU不兼容。\n",
    "\n",
    "\n"
   ]
  },
  {
   "cell_type": "code",
   "execution_count": 3,
   "metadata": {},
   "outputs": [
    {
     "name": "stderr",
     "output_type": "stream",
     "text": [
      "/Users/louis/opt/anaconda3/envs/pytorch/lib/python3.7/site-packages/torch/nn/modules/loss.py:498: UserWarning: Using a target size (torch.Size([759])) that is different to the input size (torch.Size([759, 1])) is deprecated. Please ensure they have the same size.\n",
      "  return F.binary_cross_entropy(input, target, weight=self.weight, reduction=self.reduction)\n"
     ]
    },
    {
     "name": "stdout",
     "output_type": "stream",
     "text": [
      "0 0.8480473756790161\n",
      "1 0.6918585300445557\n",
      "2 0.6619048118591309\n",
      "3 0.6520129442214966\n",
      "4 0.6484132409095764\n",
      "5 0.6468790769577026\n",
      "6 0.6459916830062866\n",
      "7 0.6453354954719543\n",
      "8 0.6447094678878784\n",
      "9 0.6440841555595398\n",
      "10 0.6435074210166931\n",
      "11 0.6429041028022766\n",
      "12 0.6423152089118958\n",
      "13 0.6416715383529663\n",
      "14 0.6409943103790283\n",
      "15 0.6403276324272156\n",
      "16 0.639633059501648\n",
      "17 0.6389558911323547\n",
      "18 0.6382583975791931\n",
      "19 0.6375390887260437\n",
      "20 0.6367677450180054\n",
      "21 0.6359860897064209\n",
      "22 0.6352155804634094\n",
      "23 0.6344131827354431\n",
      "24 0.6336286067962646\n",
      "25 0.6328327059745789\n",
      "26 0.6320068836212158\n",
      "27 0.6311458349227905\n",
      "28 0.630273163318634\n",
      "29 0.6294109225273132\n",
      "30 0.6285344362258911\n",
      "31 0.6276330351829529\n",
      "32 0.6267088651657104\n",
      "33 0.6257534623146057\n",
      "34 0.6247949004173279\n",
      "35 0.6238130927085876\n",
      "36 0.6228049397468567\n",
      "37 0.6217761635780334\n",
      "38 0.6207257509231567\n",
      "39 0.6196470260620117\n",
      "40 0.6185463666915894\n",
      "41 0.6174227595329285\n",
      "42 0.6162723898887634\n",
      "43 0.6150810718536377\n",
      "44 0.6138470768928528\n",
      "45 0.612575888633728\n",
      "46 0.6112633943557739\n",
      "47 0.6099004149436951\n",
      "48 0.6084944009780884\n",
      "49 0.6070472002029419\n",
      "50 0.6055552363395691\n",
      "51 0.6040176749229431\n",
      "52 0.6024371981620789\n",
      "53 0.6007887721061707\n",
      "54 0.5990983247756958\n",
      "55 0.5973674654960632\n",
      "56 0.5955880880355835\n",
      "57 0.5937678217887878\n",
      "58 0.5919026136398315\n",
      "59 0.589989423751831\n",
      "60 0.5880324244499207\n",
      "61 0.5860221982002258\n",
      "62 0.5839581489562988\n",
      "63 0.5818340182304382\n",
      "64 0.5796695351600647\n",
      "65 0.5774562358856201\n",
      "66 0.5751833319664001\n",
      "67 0.5728718638420105\n",
      "68 0.570524275302887\n",
      "69 0.5681420564651489\n",
      "70 0.5657244324684143\n",
      "71 0.563267707824707\n",
      "72 0.5607747435569763\n",
      "73 0.5582491755485535\n",
      "74 0.5556936264038086\n",
      "75 0.5530990362167358\n",
      "76 0.5504831075668335\n",
      "77 0.5478387475013733\n",
      "78 0.5451800227165222\n",
      "79 0.5424980521202087\n",
      "80 0.5398009419441223\n",
      "81 0.5370816588401794\n",
      "82 0.5343363881111145\n",
      "83 0.5315828323364258\n",
      "84 0.5288209915161133\n",
      "85 0.526059091091156\n",
      "86 0.5233045220375061\n",
      "87 0.5205579400062561\n",
      "88 0.5177820920944214\n",
      "89 0.5150437355041504\n",
      "90 0.5123542547225952\n",
      "91 0.5097014307975769\n",
      "92 0.5070887207984924\n",
      "93 0.5045216679573059\n",
      "94 0.5020143389701843\n",
      "95 0.49957388639450073\n",
      "96 0.4972040057182312\n",
      "97 0.4949153959751129\n",
      "98 0.492712140083313\n",
      "99 0.49059104919433594\n",
      "100 0.4885728359222412\n",
      "101 0.48666566610336304\n",
      "102 0.4848369061946869\n",
      "103 0.4831414818763733\n",
      "104 0.4815719723701477\n",
      "105 0.48012062907218933\n",
      "106 0.47881799936294556\n",
      "107 0.47766807675361633\n",
      "108 0.47664564847946167\n",
      "109 0.475726455450058\n",
      "110 0.4749097526073456\n",
      "111 0.47417452931404114\n",
      "112 0.4734991490840912\n",
      "113 0.47290220856666565\n",
      "114 0.47240033745765686\n",
      "115 0.47202032804489136\n",
      "116 0.4721510410308838\n",
      "117 0.4733388125896454\n",
      "118 0.48981428146362305\n"
     ]
    },
    {
     "ename": "RuntimeError",
     "evalue": "Assertion `x >= 0. && x <= 1.' failed. input value should be between 0~1, but got 1.074878 at /tmp/pip-req-build-9oilk29k/aten/src/THNN/generic/BCECriterion.c:60",
     "output_type": "error",
     "traceback": [
      "\u001b[0;31m---------------------------------------------------------------------------\u001b[0m",
      "\u001b[0;31mRuntimeError\u001b[0m                              Traceback (most recent call last)",
      "\u001b[0;32m<ipython-input-3-1d1158f82a67>\u001b[0m in \u001b[0;36m<module>\u001b[0;34m\u001b[0m\n\u001b[1;32m      4\u001b[0m     \u001b[0;31m# Forward\u001b[0m\u001b[0;34m\u001b[0m\u001b[0;34m\u001b[0m\u001b[0;34m\u001b[0m\u001b[0m\n\u001b[1;32m      5\u001b[0m     \u001b[0my_pred\u001b[0m \u001b[0;34m=\u001b[0m \u001b[0mmodel\u001b[0m\u001b[0;34m(\u001b[0m\u001b[0mx_data\u001b[0m\u001b[0;34m)\u001b[0m\u001b[0;34m\u001b[0m\u001b[0;34m\u001b[0m\u001b[0m\n\u001b[0;32m----> 6\u001b[0;31m     \u001b[0mloss\u001b[0m \u001b[0;34m=\u001b[0m \u001b[0mcriterion\u001b[0m\u001b[0;34m(\u001b[0m\u001b[0my_pred\u001b[0m\u001b[0;34m,\u001b[0m\u001b[0my_data\u001b[0m\u001b[0;34m)\u001b[0m\u001b[0;34m\u001b[0m\u001b[0;34m\u001b[0m\u001b[0m\n\u001b[0m\u001b[1;32m      7\u001b[0m     \u001b[0mprint\u001b[0m\u001b[0;34m(\u001b[0m\u001b[0mepoch\u001b[0m\u001b[0;34m,\u001b[0m\u001b[0mloss\u001b[0m\u001b[0;34m.\u001b[0m\u001b[0mitem\u001b[0m\u001b[0;34m(\u001b[0m\u001b[0;34m)\u001b[0m\u001b[0;34m)\u001b[0m\u001b[0;34m\u001b[0m\u001b[0;34m\u001b[0m\u001b[0m\n\u001b[1;32m      8\u001b[0m     \u001b[0;31m# Backward\u001b[0m\u001b[0;34m\u001b[0m\u001b[0;34m\u001b[0m\u001b[0;34m\u001b[0m\u001b[0m\n",
      "\u001b[0;32m~/opt/anaconda3/envs/pytorch/lib/python3.7/site-packages/torch/nn/modules/module.py\u001b[0m in \u001b[0;36m__call__\u001b[0;34m(self, *input, **kwargs)\u001b[0m\n\u001b[1;32m    539\u001b[0m             \u001b[0mresult\u001b[0m \u001b[0;34m=\u001b[0m \u001b[0mself\u001b[0m\u001b[0;34m.\u001b[0m\u001b[0m_slow_forward\u001b[0m\u001b[0;34m(\u001b[0m\u001b[0;34m*\u001b[0m\u001b[0minput\u001b[0m\u001b[0;34m,\u001b[0m \u001b[0;34m**\u001b[0m\u001b[0mkwargs\u001b[0m\u001b[0;34m)\u001b[0m\u001b[0;34m\u001b[0m\u001b[0;34m\u001b[0m\u001b[0m\n\u001b[1;32m    540\u001b[0m         \u001b[0;32melse\u001b[0m\u001b[0;34m:\u001b[0m\u001b[0;34m\u001b[0m\u001b[0;34m\u001b[0m\u001b[0m\n\u001b[0;32m--> 541\u001b[0;31m             \u001b[0mresult\u001b[0m \u001b[0;34m=\u001b[0m \u001b[0mself\u001b[0m\u001b[0;34m.\u001b[0m\u001b[0mforward\u001b[0m\u001b[0;34m(\u001b[0m\u001b[0;34m*\u001b[0m\u001b[0minput\u001b[0m\u001b[0;34m,\u001b[0m \u001b[0;34m**\u001b[0m\u001b[0mkwargs\u001b[0m\u001b[0;34m)\u001b[0m\u001b[0;34m\u001b[0m\u001b[0;34m\u001b[0m\u001b[0m\n\u001b[0m\u001b[1;32m    542\u001b[0m         \u001b[0;32mfor\u001b[0m \u001b[0mhook\u001b[0m \u001b[0;32min\u001b[0m \u001b[0mself\u001b[0m\u001b[0;34m.\u001b[0m\u001b[0m_forward_hooks\u001b[0m\u001b[0;34m.\u001b[0m\u001b[0mvalues\u001b[0m\u001b[0;34m(\u001b[0m\u001b[0;34m)\u001b[0m\u001b[0;34m:\u001b[0m\u001b[0;34m\u001b[0m\u001b[0;34m\u001b[0m\u001b[0m\n\u001b[1;32m    543\u001b[0m             \u001b[0mhook_result\u001b[0m \u001b[0;34m=\u001b[0m \u001b[0mhook\u001b[0m\u001b[0;34m(\u001b[0m\u001b[0mself\u001b[0m\u001b[0;34m,\u001b[0m \u001b[0minput\u001b[0m\u001b[0;34m,\u001b[0m \u001b[0mresult\u001b[0m\u001b[0;34m)\u001b[0m\u001b[0;34m\u001b[0m\u001b[0;34m\u001b[0m\u001b[0m\n",
      "\u001b[0;32m~/opt/anaconda3/envs/pytorch/lib/python3.7/site-packages/torch/nn/modules/loss.py\u001b[0m in \u001b[0;36mforward\u001b[0;34m(self, input, target)\u001b[0m\n\u001b[1;32m    496\u001b[0m \u001b[0;34m\u001b[0m\u001b[0m\n\u001b[1;32m    497\u001b[0m     \u001b[0;32mdef\u001b[0m \u001b[0mforward\u001b[0m\u001b[0;34m(\u001b[0m\u001b[0mself\u001b[0m\u001b[0;34m,\u001b[0m \u001b[0minput\u001b[0m\u001b[0;34m,\u001b[0m \u001b[0mtarget\u001b[0m\u001b[0;34m)\u001b[0m\u001b[0;34m:\u001b[0m\u001b[0;34m\u001b[0m\u001b[0;34m\u001b[0m\u001b[0m\n\u001b[0;32m--> 498\u001b[0;31m         \u001b[0;32mreturn\u001b[0m \u001b[0mF\u001b[0m\u001b[0;34m.\u001b[0m\u001b[0mbinary_cross_entropy\u001b[0m\u001b[0;34m(\u001b[0m\u001b[0minput\u001b[0m\u001b[0;34m,\u001b[0m \u001b[0mtarget\u001b[0m\u001b[0;34m,\u001b[0m \u001b[0mweight\u001b[0m\u001b[0;34m=\u001b[0m\u001b[0mself\u001b[0m\u001b[0;34m.\u001b[0m\u001b[0mweight\u001b[0m\u001b[0;34m,\u001b[0m \u001b[0mreduction\u001b[0m\u001b[0;34m=\u001b[0m\u001b[0mself\u001b[0m\u001b[0;34m.\u001b[0m\u001b[0mreduction\u001b[0m\u001b[0;34m)\u001b[0m\u001b[0;34m\u001b[0m\u001b[0;34m\u001b[0m\u001b[0m\n\u001b[0m\u001b[1;32m    499\u001b[0m \u001b[0;34m\u001b[0m\u001b[0m\n\u001b[1;32m    500\u001b[0m \u001b[0;34m\u001b[0m\u001b[0m\n",
      "\u001b[0;32m~/opt/anaconda3/envs/pytorch/lib/python3.7/site-packages/torch/nn/functional.py\u001b[0m in \u001b[0;36mbinary_cross_entropy\u001b[0;34m(input, target, weight, size_average, reduce, reduction)\u001b[0m\n\u001b[1;32m   2063\u001b[0m \u001b[0;34m\u001b[0m\u001b[0m\n\u001b[1;32m   2064\u001b[0m     return torch._C._nn.binary_cross_entropy(\n\u001b[0;32m-> 2065\u001b[0;31m         input, target, weight, reduction_enum)\n\u001b[0m\u001b[1;32m   2066\u001b[0m \u001b[0;34m\u001b[0m\u001b[0m\n\u001b[1;32m   2067\u001b[0m \u001b[0;34m\u001b[0m\u001b[0m\n",
      "\u001b[0;31mRuntimeError\u001b[0m: Assertion `x >= 0. && x <= 1.' failed. input value should be between 0~1, but got 1.074878 at /tmp/pip-req-build-9oilk29k/aten/src/THNN/generic/BCECriterion.c:60"
     ]
    }
   ],
   "source": [
    "loss_history=[]\n",
    "\n",
    "for epoch in range(10000):\n",
    "    # Forward\n",
    "    y_pred = model(x_data)\n",
    "    loss = criterion(y_pred,y_data)\n",
    "    print(epoch,loss.item())\n",
    "    # Backward\n",
    "    optimizer.zero_grad()\n",
    "    loss.backward()\n",
    "    # Update\n",
    "    optimizer.step()\n",
    "    \n",
    "    if (epoch%100==0):\n",
    "        loss_history.append(loss)\n"
   ]
  },
  {
   "cell_type": "code",
   "execution_count": 13,
   "metadata": {},
   "outputs": [
    {
     "name": "stdout",
     "output_type": "stream",
     "text": [
      "w1 =  [[ 4.0655094e-01  2.1238074e+00 -1.6351908e-01  2.6529968e-01\n",
      "   4.3988082e-01  1.0524911e+00  7.0180911e-01 -3.4167757e-04]\n",
      " [-3.1123638e-01 -1.4870613e+00 -3.4325797e-02  2.6201040e-02\n",
      "  -1.7657805e-02 -1.3523910e+00 -7.8872126e-01  3.3057982e-01]\n",
      " [ 4.0808615e-01  1.7763270e+00 -3.1010751e-03  9.9208290e-03\n",
      "   2.3779793e-01  1.5190651e+00  6.9256747e-01  1.0024250e-01]\n",
      " [-2.8158534e-01 -9.0359861e-01  5.0912477e-02 -1.0637122e-01\n",
      "  -4.1600174e-01 -4.7924444e-01 -1.3283451e-01 -3.4460723e-01]\n",
      " [ 2.6883149e-01  3.0497734e-02 -5.3036466e-02  2.2829883e-01\n",
      "   1.0030478e-01  4.0599582e-01  1.4988199e-01  2.5611666e-01]\n",
      " [-3.7366036e-01 -5.9070998e-01  5.4686111e-03 -3.5711080e-01\n",
      "  -9.2363149e-02 -8.5243815e-01 -2.5650176e-01  2.1974678e-01]]\n",
      "b1 =  [ 0.5421298  -0.35723653  0.6295316  -0.35729632  0.28362063 -0.25197604]\n",
      "w2 =  [[-1.7675093   1.4528375  -1.5884392   0.55120444 -0.3778788   0.72620875]\n",
      " [ 1.8314062  -1.3697132   1.6919943  -0.5968847   0.02869451 -0.6755535 ]\n",
      " [ 0.11305661 -0.08734614 -0.17764896  0.5157065  -0.11996981  0.20498566]\n",
      " [-1.4138745   1.0907804  -1.4272702   0.723013   -0.32237756  0.3850766 ]]\n",
      "b2 =  [ 0.02670733  0.00227015 -0.22650163  0.22074695]\n",
      "w3 =  [[ 3.0975215 -2.943436   0.3080327  2.5513244]]\n",
      "b3 =  [0.40109324]\n"
     ]
    }
   ],
   "source": [
    "\n",
    "print(\"w1 = \",model.linear1.weight.detach().numpy())\n",
    "print(\"b1 = \",model.linear1.bias.detach().numpy())\n",
    "print(\"w2 = \",model.linear2.weight.detach().numpy())\n",
    "print(\"b2 = \",model.linear2.bias.detach().numpy())\n",
    "print(\"w3 = \",model.linear3.weight.detach().numpy())\n",
    "print(\"b3 = \",model.linear3.bias.detach().numpy())"
   ]
  },
  {
   "cell_type": "code",
   "execution_count": 14,
   "metadata": {},
   "outputs": [
    {
     "data": {
      "text/plain": [
       "[<matplotlib.lines.Line2D at 0x123f1b210>]"
      ]
     },
     "execution_count": 14,
     "metadata": {},
     "output_type": "execute_result"
    },
    {
     "data": {
      "image/png": "[encoded data removed]",
      "text/plain": [
       "<Figure size 432x288 with 1 Axes>"
      ]
     },
     "metadata": {
      "needs_background": "light"
     },
     "output_type": "display_data"
    }
   ],
   "source": [
    "import matplotlib.pyplot as plt\n",
    "plt.plot(loss_history)"
   ]
  }
 ],
 "metadata": {
  "kernelspec": {
   "display_name": "Python 3",
   "language": "python",
   "name": "python3"
  },
  "language_info": {
   "codemirror_mode": {
    "name": "ipython",
    "version": 3
   },
   "file_extension": ".py",
   "mimetype": "text/x-python",
   "name": "python",
   "nbconvert_exporter": "python",
   "pygments_lexer": "ipython3",
   "version": "3.7.9"
  }
 },
 "nbformat": 4,
 "nbformat_minor": 4
}
